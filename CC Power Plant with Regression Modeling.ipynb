{
 "cells": [
  {
   "cell_type": "code",
   "execution_count": 1,
   "id": "00f3cc88",
   "metadata": {},
   "outputs": [],
   "source": [
    "import requests\n",
    "import pandas as pd\n",
    "import numpy as np\n",
    "from numpy.linalg import inv"
   ]
  },
  {
   "cell_type": "code",
   "execution_count": 2,
   "id": "399d5f53",
   "metadata": {},
   "outputs": [
    {
     "name": "stdout",
     "output_type": "stream",
     "text": [
      "(9568, 5)\n"
     ]
    }
   ],
   "source": [
    "# data = requests.get(\"https://archive.ics.uci.edu/ml/datasets/Combined+Cycle+Power+Plant.data\")\n",
    "df = pd.read_excel(r\"C:\\Users\\Julian\\Desktop\\Machine Learning\\Projects\\Combined Cycle Power Plant\\CCPP\\Folds5x2_pp.xlsx\")\n",
    "print(df.shape)"
   ]
  },
  {
   "cell_type": "code",
   "execution_count": 3,
   "id": "207dc104",
   "metadata": {},
   "outputs": [
    {
     "name": "stdout",
     "output_type": "stream",
     "text": [
      "Model 1: The regression model 'PE = a⋅AT + b⋅AP + c⋅RH + d⋅V + e' has coefficients:\n",
      "[[-1.97751311e+00]\n",
      " [ 6.20829436e-02]\n",
      " [-1.58054103e-01]\n",
      " [-2.33916423e-01]\n",
      " [ 4.54609274e+02]]\n",
      "The mean square error of Model 1 is:\n",
      "20.767397532535\n",
      "\n",
      "\n",
      "\n"
     ]
    }
   ],
   "source": [
    "# Model 1. Using a linear function containing all variables\n",
    "# PE = a⋅AT + b⋅AP + c⋅RH + d⋅V + e\n",
    "y = np.asarray(df[['PE']])\n",
    "df.insert(5,'Ones', y*0+1, True)\n",
    "x = np.asarray(df[['AT', 'AP', 'RH', 'V', 'Ones']]).T\n",
    "\n",
    "# Create the coefficient matrix A and load vector b\n",
    "modelsize = 5\n",
    "A = np.zeros((modelsize,modelsize))\n",
    "b = np.zeros((modelsize,1))\n",
    "\n",
    "for i in range(modelsize):\n",
    "    b[i] = sum(x[i] * y.T[0])\n",
    "    for j in range(modelsize):\n",
    "        A[i][j] = sum(x[i]*x[j])\n",
    "        \n",
    "# Calculate the coefficients of the model\n",
    "myresult = np.matmul(inv(A),b)\n",
    "print(\"Model 1: The regression model 'PE = a⋅AT + b⋅AP + c⋅RH + d⋅V + e' has coefficients:\")\n",
    "print(myresult)\n",
    "# Calculate the MSE (mean square error) \n",
    "\n",
    "MSE_md1 = sum(sum((np.matmul(myresult.T,x)-y.T)**2)) / len(y)\n",
    "print(\"The mean square error of Model 1 is:\")\n",
    "print(MSE_md1)\n",
    "print(\"\\n\\n\")"
   ]
  },
  {
   "cell_type": "code",
   "execution_count": 4,
   "id": "a0bf0058",
   "metadata": {},
   "outputs": [],
   "source": [
    "# Now using high degree terms\n",
    "df['AT Square'] = df['AT']**2\n",
    "df['AP Square'] = df['AP']**2\n",
    "df['RH Square'] = df['RH']**2\n",
    "df['V Square']  = df['V']**2\n",
    "\n",
    "df['AT AP'] = df['AT']*df['AP']\n",
    "df['AT RH'] = df['AT']*df['RH']\n",
    "df['AT V']  = df['AT']*df['V']\n",
    "df['AP RH'] = df['AP']*df['RH']\n",
    "df['AP V']  = df['AP']*df['V']\n",
    "df['RH V']  = df['RH']*df['V']"
   ]
  },
  {
   "cell_type": "code",
   "execution_count": 5,
   "id": "e98f1aa0",
   "metadata": {},
   "outputs": [
    {
     "name": "stdout",
     "output_type": "stream",
     "text": [
      "Model 2: The regression model 'PE = a⋅AT^2 + b⋅AP + c⋅AP⋅V + d⋅RH⋅V + e' has coefficients:\n",
      "[[-4.54166874e-02]\n",
      " [ 1.20475622e-01]\n",
      " [-1.00945759e-04]\n",
      " [-3.16355352e-03]\n",
      " [ 3.70315430e+02]]\n",
      "The mean square error of Model 2 is:\n",
      "32.641360553676165\n",
      "\n",
      "\n"
     ]
    }
   ],
   "source": [
    "# Model 2. PE = a⋅AT^2 + b⋅AP + c⋅AP⋅V + d⋅RH⋅V + e\n",
    "x21 = np.asarray(df[['AT Square', 'AP', 'AP V', 'RH V', 'Ones']]).T\n",
    "# Create the coefficient matrix A and load vector b\n",
    "modelsize = 5\n",
    "A21 = np.zeros((modelsize,modelsize))\n",
    "b21 = np.zeros((modelsize,1))\n",
    "\n",
    "for i in range(modelsize):\n",
    "    b21[i] = sum(x21[i] * y.T[0])\n",
    "    for j in range(modelsize):\n",
    "        A21[i][j] = sum(x21[i]*x21[j])\n",
    "\n",
    "# Calculate the coefficients of the model\n",
    "print(\"Model 2: The regression model 'PE = a⋅AT^2 + b⋅AP + c⋅AP⋅V + d⋅RH⋅V + e' has coefficients:\")\n",
    "myresult21 = np.matmul(inv(A21),b21)\n",
    "print(myresult21)\n",
    "\n",
    "# Calculate the MSE (mean square error) \n",
    "MSE_md21 = sum(sum((np.matmul(myresult21.T,x21)-y.T)**2)) / len(y)\n",
    "print(\"The mean square error of Model 2 is:\")\n",
    "print(MSE_md21)\n",
    "print(\"\\n\")"
   ]
  },
  {
   "cell_type": "code",
   "execution_count": 6,
   "id": "ddbd0d2c",
   "metadata": {},
   "outputs": [
    {
     "name": "stdout",
     "output_type": "stream",
     "text": [
      "Model 3: The regression model 'PE = a⋅AT⋅AP + b⋅AP^2 + c⋅RH⋅V + d⋅V + e' has coefficients:\n",
      "[[-1.97619982e-03]\n",
      " [ 4.26582300e-05]\n",
      " [-3.03741298e-03]\n",
      " [-4.80467554e-03]\n",
      " [ 4.62049101e+02]]\n",
      "The mean square error of Model 3 is:\n",
      "19.996877241605347\n",
      "\n",
      "\n"
     ]
    }
   ],
   "source": [
    "# Model 3. PE = a⋅AT⋅AP + b⋅AP^2 + c⋅RH⋅V + d⋅V + e\n",
    "x22 = np.asarray(df[['AT AP', 'AP Square', 'RH V', 'V', 'Ones']]).T\n",
    "# Create the coefficient matrix A and load vector b\n",
    "modelsize = 5\n",
    "A22 = np.zeros((modelsize,modelsize))\n",
    "b22 = np.zeros((modelsize,1))\n",
    "\n",
    "for i in range(modelsize):\n",
    "    b22[i] = sum(x22[i] * y.T[0])\n",
    "    for j in range(modelsize):\n",
    "        A22[i][j] = sum(x22[i]*x22[j])\n",
    "\n",
    "# Calculate the coefficients of the model\n",
    "print(\"Model 3: The regression model 'PE = a⋅AT⋅AP + b⋅AP^2 + c⋅RH⋅V + d⋅V + e' has coefficients:\")\n",
    "myresult22 = np.matmul(inv(A22),b22)\n",
    "print(myresult22)\n",
    "\n",
    "# Calculate the MSE (mean square error) \n",
    "MSE_md22 = sum(sum((np.matmul(myresult22.T,x22)-y.T)**2)) / len(y)\n",
    "print(\"The mean square error of Model 3 is:\")\n",
    "print(MSE_md22)\n",
    "print(\"\\n\")"
   ]
  },
  {
   "cell_type": "code",
   "execution_count": 7,
   "id": "e97df84c",
   "metadata": {},
   "outputs": [
    {
     "name": "stdout",
     "output_type": "stream",
     "text": [
      "Model 4: The regression model 'PE = a⋅AT⋅V + b⋅AP⋅RH + c⋅RH + d⋅V^2 + e' has coefficients:\n",
      "[[-3.49044328e-02]\n",
      " [ 1.90117199e-03]\n",
      " [-2.07089068e+00]\n",
      " [ 4.18759481e-03]\n",
      " [ 4.91955821e+02]]\n",
      "The mean square error of Model 4 is:\n",
      "31.5991764257165\n",
      "\n",
      "\n"
     ]
    }
   ],
   "source": [
    "# Model 4. PE = a⋅AT⋅V + b⋅AP⋅RH + c⋅RH + d⋅V^2 + e\n",
    "x23 = np.asarray(df[['AT V', 'AP RH', 'RH', 'V Square', 'Ones']]).T\n",
    "# Create the coefficient matrix A and load vector b\n",
    "modelsize = 5\n",
    "A23 = np.zeros((modelsize,modelsize))\n",
    "b23 = np.zeros((modelsize,1))\n",
    "\n",
    "for i in range(modelsize):\n",
    "    b23[i] = sum(x23[i] * y.T[0])\n",
    "    for j in range(modelsize):\n",
    "        A23[i][j] = sum(x23[i]*x23[j])\n",
    "\n",
    "# Calculate the coefficients of the model\n",
    "print(\"Model 4: The regression model 'PE = a⋅AT⋅V + b⋅AP⋅RH + c⋅RH + d⋅V^2 + e' has coefficients:\")\n",
    "myresult23 = np.matmul(inv(A23),b23)\n",
    "print(myresult23)\n",
    "\n",
    "# Calculate the MSE (mean square error) \n",
    "MSE_md23 = sum(sum((np.matmul(myresult23.T,x23)-y.T)**2)) / len(y)\n",
    "print(\"The mean square error of Model 4 is:\")\n",
    "print(MSE_md23)\n",
    "print(\"\\n\")"
   ]
  },
  {
   "cell_type": "code",
   "execution_count": 8,
   "id": "85708313",
   "metadata": {},
   "outputs": [
    {
     "name": "stdout",
     "output_type": "stream",
     "text": [
      "Model 5: The regression model 'PE = a⋅AT⋅RH + b⋅AP⋅V + c⋅RH^2 + d⋅V + e' has coefficients:\n",
      "[[-2.27798064e-02]\n",
      " [ 2.93462345e-03]\n",
      " [ 2.59606286e-03]\n",
      " [-3.31862118e+00]\n",
      " [ 4.90163962e+02]]\n",
      "The mean square error of Model 5 is:\n",
      "24.755384708157226\n",
      "\n",
      "\n"
     ]
    }
   ],
   "source": [
    "# Model 5. PE = a⋅AT⋅RH + b⋅AP⋅V + c⋅RH^2 + d⋅V + e\n",
    "x24 = np.asarray(df[['AT RH', 'AP V', 'RH Square', 'V', 'Ones']]).T\n",
    "# Create the coefficient matrix A and load vector b\n",
    "modelsize = 5\n",
    "A24 = np.zeros((modelsize,modelsize))\n",
    "b24 = np.zeros((modelsize,1))\n",
    "\n",
    "for i in range(modelsize):\n",
    "    b24[i] = sum(x24[i] * y.T[0])\n",
    "    for j in range(modelsize):\n",
    "        A24[i][j] = sum(x24[i]*x24[j])\n",
    "\n",
    "# Calculate the coefficients of the model\n",
    "print(\"Model 5: The regression model 'PE = a⋅AT⋅RH + b⋅AP⋅V + c⋅RH^2 + d⋅V + e' has coefficients:\")\n",
    "myresult24 = np.matmul(inv(A24),b24)\n",
    "print(myresult24)\n",
    "\n",
    "# Calculate the MSE (mean square error) \n",
    "MSE_md24 = sum(sum((np.matmul(myresult24.T,x24)-y.T)**2)) / len(y)\n",
    "print(\"The mean square error of Model 5 is:\")\n",
    "print(MSE_md24)\n",
    "print(\"\\n\")"
   ]
  },
  {
   "cell_type": "code",
   "execution_count": 9,
   "id": "a686ea70",
   "metadata": {},
   "outputs": [
    {
     "name": "stdout",
     "output_type": "stream",
     "text": [
      "Model 6: The regression model 'PE = a⋅AT + b⋅AP⋅RH + c⋅RH^2 + d⋅V^2 + e' has coefficients:\n",
      "[[-2.07172929e+00]\n",
      " [-1.90460453e-04]\n",
      " [ 1.58019319e-04]\n",
      " [-1.81446290e-03]\n",
      " [ 5.13987423e+02]]\n",
      "The mean square error of Model 6 is:\n",
      "21.20817250986131\n",
      "\n",
      "\n"
     ]
    }
   ],
   "source": [
    "# Model 6. PE = a⋅AT + b⋅AP⋅RH + c⋅RH^2 + d⋅V^2 + e\n",
    "x25 = np.asarray(df[['AT', 'AP RH', 'RH Square', 'V Square', 'Ones']]).T\n",
    "# Create the coefficient matrix A and load vector b\n",
    "modelsize = 5\n",
    "A25 = np.zeros((modelsize,modelsize))\n",
    "b25 = np.zeros((modelsize,1))\n",
    "\n",
    "for i in range(modelsize):\n",
    "    b25[i] = sum(x25[i] * y.T[0])\n",
    "    for j in range(modelsize):\n",
    "        A25[i][j] = sum(x25[i]*x25[j])\n",
    "\n",
    "# Calculate the coefficients of the model\n",
    "print(\"Model 6: The regression model 'PE = a⋅AT + b⋅AP⋅RH + c⋅RH^2 + d⋅V^2 + e' has coefficients:\")\n",
    "myresult25 = np.matmul(inv(A25),b25)\n",
    "print(myresult25)\n",
    "\n",
    "# Calculate the MSE (mean square error) \n",
    "MSE_md25 = sum(sum((np.matmul(myresult25.T,x25)-y.T)**2)) / len(y)\n",
    "print(\"The mean square error of Model 6 is:\")\n",
    "print(MSE_md25)\n",
    "print(\"\\n\")"
   ]
  },
  {
   "cell_type": "code",
   "execution_count": 10,
   "id": "0fb54272",
   "metadata": {},
   "outputs": [
    {
     "name": "stdout",
     "output_type": "stream",
     "text": [
      "Model 7: The regression model 'PE = a⋅AT^2 + b⋅AP⋅V + c⋅RH + d⋅V^2 + e' has coefficients:\n",
      "[[-4.59971853e-02]\n",
      " [-1.82133535e-03]\n",
      " [-1.64091895e-01]\n",
      " [ 1.33680827e-02]\n",
      " [ 5.45292593e+02]]\n",
      "The mean square error of Model 7 is:\n",
      "32.43975500213372\n",
      "\n",
      "\n",
      "\n"
     ]
    }
   ],
   "source": [
    "# Model 7. PE = a⋅AT^2 + b⋅AP⋅V + c⋅RH + d⋅V^2 + e\n",
    "x26 = np.asarray(df[['AT Square', 'AP V', 'RH', 'V Square', 'Ones']]).T\n",
    "# Create the coefficient matrix A and load vector b\n",
    "modelsize = 5\n",
    "A26 = np.zeros((modelsize,modelsize))\n",
    "b26 = np.zeros((modelsize,1))\n",
    "\n",
    "for i in range(modelsize):\n",
    "    b26[i] = sum(x26[i] * y.T[0])\n",
    "    for j in range(modelsize):\n",
    "        A26[i][j] = sum(x26[i]*x26[j])\n",
    "\n",
    "# Calculate the coefficients of the model\n",
    "print(\"Model 7: The regression model 'PE = a⋅AT^2 + b⋅AP⋅V + c⋅RH + d⋅V^2 + e' has coefficients:\")\n",
    "myresult26 = np.matmul(inv(A26),b26)\n",
    "print(myresult26)\n",
    "\n",
    "# Calculate the MSE (mean square error) \n",
    "MSE_md26 = sum(sum((np.matmul(myresult26.T,x26)-y.T)**2)) / len(y)\n",
    "print(\"The mean square error of Model 7 is:\")\n",
    "print(MSE_md26)\n",
    "print(\"\\n\\n\")"
   ]
  },
  {
   "cell_type": "code",
   "execution_count": 11,
   "id": "c6b66ada",
   "metadata": {},
   "outputs": [
    {
     "name": "stdout",
     "output_type": "stream",
     "text": [
      "Model 8: The regression model 'PE = a1⋅AT^2 + a2⋅AP^2 + a3⋅RH^2 + a4⋅V^2 + a5⋅AT⋅AP\n",
      " + a6⋅AT⋅RH + a7⋅AT⋅V + a8⋅AP⋅RH + a9⋅AP⋅V + a10⋅RH⋅V \n",
      " + a11⋅AT + a12⋅AP + a13⋅RH + a14⋅V + a15' has coefficients:\n",
      "[[ 1.63258092e-02]\n",
      " [-7.61665619e-03]\n",
      " [-1.92565473e-03]\n",
      " [-1.25988941e-03]\n",
      " [ 3.11474857e-03]\n",
      " [-6.08213826e-03]\n",
      " [ 1.19701495e-02]\n",
      " [-3.61853505e-03]\n",
      " [ 2.57373901e-03]\n",
      " [ 5.05459871e-04]\n",
      " [-5.79672593e+00]\n",
      " [ 1.56286447e+01]\n",
      " [ 3.91939642e+00]\n",
      " [-3.04430917e+00]\n",
      " [-7.50386475e+03]]\n",
      "The mean square error of Model 8 is:\n",
      "18.103151724168985\n"
     ]
    }
   ],
   "source": [
    "# Model 8. 2nd degree polynomial with all variables\n",
    "x3 = np.asarray(df[['AT Square', 'AP Square', 'RH Square', 'V Square', 'AT AP', 'AT RH',\n",
    "                   'AT V', 'AP RH', 'AP V', 'RH V', 'AT', 'AP', 'RH', 'V', 'Ones']]).T\n",
    "# Create the coefficient matrix A and load vector b\n",
    "modelsize = 15\n",
    "A3 = np.zeros((modelsize,modelsize))\n",
    "b3 = np.zeros((modelsize,1))\n",
    "\n",
    "for i in range(modelsize):\n",
    "    b3[i] = sum(x3[i] * y.T[0])\n",
    "    for j in range(modelsize):\n",
    "        A3[i][j] = sum(x3[i]*x3[j])\n",
    "\n",
    "# Calculate the coefficients of the model\n",
    "print(\"Model 8: The regression model 'PE = a1⋅AT^2 + a2⋅AP^2 + a3⋅RH^2 + a4⋅V^2 + a5⋅AT⋅AP\")\n",
    "print(\" + a6⋅AT⋅RH + a7⋅AT⋅V + a8⋅AP⋅RH + a9⋅AP⋅V + a10⋅RH⋅V \")\n",
    "print(\" + a11⋅AT + a12⋅AP + a13⋅RH + a14⋅V + a15' has coefficients:\")\n",
    "myresult3 = np.matmul(inv(A3),b3)\n",
    "print(myresult3)\n",
    "\n",
    "# Calculate the MSE (mean square error) \n",
    "MSE_md3 = sum(sum((np.matmul(myresult3.T,x3)-y.T)**2)) / len(y)\n",
    "print(\"The mean square error of Model 8 is:\")\n",
    "print(MSE_md3)"
   ]
  }
 ],
 "metadata": {
  "kernelspec": {
   "display_name": "Python 3",
   "language": "python",
   "name": "python3"
  },
  "language_info": {
   "codemirror_mode": {
    "name": "ipython",
    "version": 3
   },
   "file_extension": ".py",
   "mimetype": "text/x-python",
   "name": "python",
   "nbconvert_exporter": "python",
   "pygments_lexer": "ipython3",
   "version": "3.8.8"
  }
 },
 "nbformat": 4,
 "nbformat_minor": 5
}
