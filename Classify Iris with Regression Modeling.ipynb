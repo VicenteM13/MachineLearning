{
 "cells": [
  {
   "cell_type": "code",
   "execution_count": 1,
   "id": "37e767fe",
   "metadata": {},
   "outputs": [],
   "source": [
    "import requests\n",
    "import pandas as pd\n",
    "import numpy as np\n",
    "from typing import List\n",
    "from numpy.linalg import inv"
   ]
  },
  {
   "cell_type": "code",
   "execution_count": 2,
   "id": "be208953",
   "metadata": {},
   "outputs": [],
   "source": [
    "# Model 1  y = a*SL + b*SW + c*PL + d*PW + e\n",
    "def my_model_1() -> List[float]:\n",
    "    # Insert a column of ones\n",
    "    vectorones = y*0+1\n",
    "    df.insert(6,'ones', vectorones, True)\n",
    "    \n",
    "    # Put the 5 columns into an array\n",
    "    olddata = np.asarray(df[['sepal-length', 'sepal-width', 'petal-length', 'petal-width', 'ones']]).T\n",
    "    \n",
    "    ### Create the coefficient matrix A and load vector v, find the coef\n",
    "    A = np.zeros((5,5))\n",
    "    v = np.zeros((5,1))\n",
    "    \n",
    "    for i in range(5):\n",
    "        v[i] = sum(olddata[i] * y.T[0])\n",
    "        for j in range(5):\n",
    "            A[i][j] = sum(olddata[i]*olddata[j])\n",
    "    \n",
    "    return np.matmul(inv(A),v)"
   ]
  },
  {
   "cell_type": "code",
   "execution_count": 3,
   "id": "a67e089b",
   "metadata": {},
   "outputs": [],
   "source": [
    "# Classify one data record\n",
    "def my_model_1_classify(newdata: List[float]) -> str:\n",
    "    myindicator = sum(sum(mycoef.T*[newdata[0], newdata[1], newdata[2], newdata[3], 1]))\n",
    "    \n",
    "    if myindicator < 15:\n",
    "        return \"Iris-setosa\"\n",
    "    else:\n",
    "        if myindicator < 25:\n",
    "            return \"Iris-versicolor\"\n",
    "        else:\n",
    "            return \"Iris-virginica\"\n"
   ]
  },
  {
   "cell_type": "code",
   "execution_count": 4,
   "id": "276e13b6",
   "metadata": {},
   "outputs": [],
   "source": [
    "# Calculate the accuracy \n",
    "def my_model_1_accuracy() -> float:\n",
    "    my_counter_total = 0.0\n",
    "    my_counter_right = 0.0\n",
    "    datalist = np.asarray(df[['sepal-length', 'sepal-width', 'petal-length', 'petal-width']])\n",
    "    for i in range(len(oldclass)):\n",
    "        my_counter_total += 1.0\n",
    "        if my_model_1_classify(datalist[i]) == oldclass[i]:\n",
    "            my_counter_right += 1.0\n",
    "    \n",
    "    return my_counter_right/my_counter_total"
   ]
  },
  {
   "cell_type": "code",
   "execution_count": 5,
   "id": "3e420c2c",
   "metadata": {},
   "outputs": [],
   "source": [
    "# Model 2  y = a*SL*SW + b*PL*PW + c*SL + d*PL + e\n",
    "def my_model_2() -> List[float]:\n",
    "    # Define columns of products of variables\n",
    "    df['SL SW'] = df['sepal-length']*df['sepal-width']\n",
    "    df['PL PW'] = df['petal-length']*df['petal-width']\n",
    "    # Put the 5 columns into an array\n",
    "    olddata = np.asarray(df[['SL SW', 'PL PW', 'sepal-length', 'petal-length', 'ones']]).T\n",
    "    \n",
    "    ### Create the coefficient matrix A and load vector v, find the coef\n",
    "    A = np.zeros((5,5))\n",
    "    v = np.zeros((5,1))\n",
    "    \n",
    "    for i in range(5):\n",
    "        v[i] = sum(olddata[i] * y.T[0])\n",
    "        for j in range(5):\n",
    "            A[i][j] = sum(olddata[i]*olddata[j])\n",
    "    \n",
    "    return np.matmul(inv(A),v)\n",
    "    "
   ]
  },
  {
   "cell_type": "code",
   "execution_count": 6,
   "id": "20dee8ce",
   "metadata": {},
   "outputs": [],
   "source": [
    "# Classify one data record\n",
    "def my_model_2_classify(newdata: List[float]) -> str:\n",
    "    myindicator = sum(sum(mycoef.T*[newdata[0]*newdata[1], newdata[2]*newdata[3], newdata[0], newdata[2], 1]))\n",
    "    \n",
    "    if myindicator < 15:\n",
    "        return \"Iris-setosa\"\n",
    "    else:\n",
    "        if myindicator < 25:\n",
    "            return \"Iris-versicolor\"\n",
    "        else:\n",
    "            return \"Iris-virginica\""
   ]
  },
  {
   "cell_type": "code",
   "execution_count": 7,
   "id": "7f9398ce",
   "metadata": {},
   "outputs": [],
   "source": [
    "# Calculate the accuracy \n",
    "def my_model_2_accuracy() -> float:\n",
    "    my_counter_total = 0.0\n",
    "    my_counter_right = 0.0\n",
    "    datalist = np.asarray(df[['SL SW', 'PL PW', 'sepal-length', 'petal-length']])\n",
    "    for i in range(len(oldclass)):\n",
    "        my_counter_total += 1.0\n",
    "        if my_model_2_classify(datalist[i]) == oldclass[i]:\n",
    "            my_counter_right += 1.0\n",
    "    \n",
    "    return my_counter_right/my_counter_total"
   ]
  },
  {
   "cell_type": "code",
   "execution_count": 8,
   "id": "6443cf93",
   "metadata": {},
   "outputs": [],
   "source": [
    "data = requests.get(\n",
    "     \"https://archive.ics.uci.edu/ml/machine-learning-databases/iris/iris.data\"\n",
    "     )\n",
    "with open('iris.dat', 'w') as f:\n",
    "     f.write(data.text)\n",
    "\n",
    "# Load the data into the data frame\n",
    "df = pd.read_csv('iris.dat', header=None)\n",
    "\n",
    "# Rename the columns\n",
    "df.columns = ['sepal-length', 'sepal-width', 'petal-length', 'petal-width', 'class']\n",
    "\n",
    "# Convert the classes (strings) into numbers\n",
    "oldclass = np.asarray(df[['class']])\n",
    "y = np.asarray(df[['sepal-length']])*0\n",
    "for i in range(len(oldclass)):\n",
    "    if oldclass[i] == 'Iris-setosa':\n",
    "        y[i] = 10\n",
    "    else:\n",
    "        if oldclass[i] == 'Iris-versicolor':\n",
    "            y[i] = 20\n",
    "        else:\n",
    "            y[i] = 30\n",
    "# Insert the data field of numeric classes\n",
    "df.insert(5,'new class', y, True)"
   ]
  },
  {
   "cell_type": "code",
   "execution_count": 9,
   "id": "ade845ef",
   "metadata": {},
   "outputs": [
    {
     "name": "stdout",
     "output_type": "stream",
     "text": [
      "Iris-setosa\n",
      "Iris-setosa\n",
      "0.9733333333333334\n",
      "Iris-setosa\n",
      "Iris-setosa\n",
      "0.4066666666666667\n"
     ]
    }
   ],
   "source": [
    "mycoef = my_model_1()\n",
    "\n",
    "# Classify the 10 inputs based on the regression model\n",
    "print(my_model_1_classify([5.3,3.4,1.7,0.2]))\n",
    "print(my_model_1_classify([5.4,3.7,1.5,0.2]))\n",
    "\n",
    "# Get the accuracy rate\n",
    "print(my_model_1_accuracy())\n",
    "\n",
    "\n",
    "mycoef = my_model_2()\n",
    "\n",
    "# Classify the 10 inputs based on the regression model\n",
    "print(my_model_2_classify([5.3,3.4,1.7,0.2]))\n",
    "print(my_model_2_classify([5.4,3.7,1.5,0.2]))\n",
    "\n",
    "# Get the accuracy rate\n",
    "print(my_model_2_accuracy())\n"
   ]
  },
  {
   "cell_type": "code",
   "execution_count": 11,
   "id": "33371e31",
   "metadata": {},
   "outputs": [
    {
     "name": "stdout",
     "output_type": "stream",
     "text": [
      "------------ Model 1 -------------\n",
      "Iris-versicolor\n",
      "Iris-versicolor\n",
      "Iris-versicolor\n",
      "Iris-versicolor\n",
      "Iris-versicolor\n",
      "Iris-versicolor\n",
      "Iris-versicolor\n",
      "Iris-versicolor\n",
      "Iris-setosa\n",
      "Iris-versicolor\n",
      "------------ Model 2 -------------\n",
      "Iris-setosa\n",
      "Iris-setosa\n",
      "Iris-versicolor\n",
      "Iris-virginica\n",
      "Iris-virginica\n",
      "Iris-setosa\n",
      "Iris-versicolor\n",
      "Iris-virginica\n",
      "Iris-virginica\n",
      "Iris-versicolor\n"
     ]
    }
   ],
   "source": [
    "print(\"------------ Model 1 -------------\")\n",
    "print(my_model_1_classify([5.3,3.4,1.7,0.2]))\n",
    "print(my_model_1_classify([5.4,3.7,1.5,0.2]))\n",
    "print(my_model_1_classify([5.5,2.6,4.4,1.2]))\n",
    "print(my_model_1_classify([5.6,2.8,4.9,2.0]))\n",
    "print(my_model_1_classify([5.7,2.5,5.0,2.0]))\n",
    "print(my_model_1_classify([5.8,4.0,1.2,0.2]))\n",
    "print(my_model_1_classify([5.9,3.0,4.2,1.5]))\n",
    "print(my_model_1_classify([6.0,2.8,5.1,1.6]))\n",
    "print(my_model_1_classify([6.1,2.5,5.6,1.4]))\n",
    "print(my_model_1_classify([6.2,2.9,4.3,1.3]))\n",
    "\n",
    "\n",
    "print(\"------------ Model 2 -------------\")\n",
    "print(my_model_2_classify([5.3,3.4,1.7,0.2]))\n",
    "print(my_model_2_classify([5.4,3.7,1.5,0.2]))\n",
    "print(my_model_2_classify([5.5,2.6,4.4,1.2]))\n",
    "print(my_model_2_classify([5.6,2.8,4.9,2.0]))\n",
    "print(my_model_2_classify([5.7,2.5,5.0,2.0]))\n",
    "print(my_model_2_classify([5.8,4.0,1.2,0.2]))\n",
    "print(my_model_2_classify([5.9,3.0,4.2,1.5]))\n",
    "print(my_model_2_classify([6.0,2.8,5.1,1.6]))\n",
    "print(my_model_2_classify([6.1,2.5,5.6,1.4]))\n",
    "print(my_model_2_classify([6.2,2.9,4.3,1.3]))"
   ]
  }
 ],
 "metadata": {
  "kernelspec": {
   "display_name": "Python 3",
   "language": "python",
   "name": "python3"
  },
  "language_info": {
   "codemirror_mode": {
    "name": "ipython",
    "version": 3
   },
   "file_extension": ".py",
   "mimetype": "text/x-python",
   "name": "python",
   "nbconvert_exporter": "python",
   "pygments_lexer": "ipython3",
   "version": "3.8.8"
  }
 },
 "nbformat": 4,
 "nbformat_minor": 5
}
