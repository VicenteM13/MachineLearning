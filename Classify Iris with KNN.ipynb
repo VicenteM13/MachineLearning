{
 "cells": [
  {
   "cell_type": "code",
   "execution_count": 38,
   "id": "bcc525cc",
   "metadata": {},
   "outputs": [],
   "source": [
    "import requests\n",
    "import pandas as pd\n",
    "import numpy as np\n",
    "import math\n",
    "from typing import List\n",
    "from numpy.linalg import inv\n"
   ]
  },
  {
   "cell_type": "code",
   "execution_count": 39,
   "id": "2ea14962",
   "metadata": {},
   "outputs": [],
   "source": [
    "def knn_classify_iris(newdata: List[float], k_value: int) -> str:\n",
    "    assert len(newdata) == 4, \"Four parameters of iris are needed.\"\n",
    "    data = requests.get(\n",
    "        \"https://archive.ics.uci.edu/ml/machine-learning-databases/iris/iris.data\"\n",
    "        )\n",
    "    with open('iris.dat', 'w') as f:\n",
    "        f.write(data.text)\n",
    "    df = pd.read_csv('iris.dat', header = None)\n",
    "    \n",
    "    #\n",
    "    df.columns = ['sepal-length', 'sepal-width', 'petal-length', 'petal-width', 'class']\n",
    "    \n",
    "    # Convert columns into an array\n",
    "    olddata = np.asarray(df[['sepal-length', 'sepal-width', 'petal-length', 'petal-width']])\n",
    "    \n",
    "    # Calculate distance between points in the dataset using list comprehension \n",
    "    mydistance = np.array([(sum(  (newdata[i]-datapiece[i])**2 for i in range(len(newdata))  ))**(1/2) for datapiece in olddata])\n",
    "    \n",
    "    mylist = mydistance.T.argsort()\n",
    "    \n",
    "    mycounter = np.zeros((3,1))\n",
    "    \n",
    "    for i in range(k_value):\n",
    "        if df['class'][mylist[i]] == 'Iris-setosa':\n",
    "            mycounter[0] += 1\n",
    "        if df['class'][mylist[i]] == 'Iris-versicolor':\n",
    "            mycounter[1] += 1\n",
    "        if df['class'][mylist[i]] == 'Iris-virginica':\n",
    "            mycounter[2] += 1\n",
    "\n",
    "    if mycounter[0] > mycounter[1]:\n",
    "        if mycounter[0] > mycounter[2]:\n",
    "            return \"Iris-setosa\"\n",
    "        else:\n",
    "            return \"Iris-virginica\"\n",
    "    else: \n",
    "        if mycounter[1] > mycounter[2]:\n",
    "            return \"Iris-versicolor\"\n",
    "        else:\n",
    "            return \"Iris-virginica\"\n"
   ]
  },
  {
   "cell_type": "code",
   "execution_count": 40,
   "id": "cc1c9de9",
   "metadata": {},
   "outputs": [
    {
     "name": "stdout",
     "output_type": "stream",
     "text": [
      "150\n",
      "The k value is: 13\n",
      "Iris-setosa\n",
      "Iris-setosa\n",
      "Iris-versicolor\n",
      "Iris-versicolor\n",
      "Iris-virginica\n",
      "Iris-virginica\n"
     ]
    }
   ],
   "source": [
    "data = requests.get(\"https://archive.ics.uci.edu/ml/machine-learning-databases/iris/iris.data\")\n",
    "with open('iris.dat', 'w') as f:\n",
    "    f.write(data.text)\n",
    "df = pd.read_csv('iris.dat', header = None)\n",
    "print(len(df))\n",
    "k=math.ceil(math.sqrt(len(df)))\n",
    "print('The k value is:',k)\n",
    "\n",
    "print(knn_classify_iris([5.2,3.7,1.6,0.4],k))\n",
    "print(knn_classify_iris([4.9,3.5,1.4,0.6],k))\n",
    "\n",
    "print(knn_classify_iris([5.9,3.2,5.0,1.4],k))\n",
    "print(knn_classify_iris([6.4,2.9,4.5,1.1],k))\n",
    "\n",
    "print(knn_classify_iris([6.2,3.1,6.0,2.3],k))\n",
    "print(knn_classify_iris([7.0,3.2,5.4,2.0],k))"
   ]
  },
  {
   "cell_type": "code",
   "execution_count": 41,
   "id": "5d4b092a",
   "metadata": {},
   "outputs": [
    {
     "name": "stdout",
     "output_type": "stream",
     "text": [
      "Accuracy = 0.98\n"
     ]
    }
   ],
   "source": [
    "# Accuracy\n",
    "\n",
    "ind = df.drop(4, axis=1)\n",
    "dep = df[4]\n",
    "\n",
    "ind1 = ind[0]\n",
    "ind2 = ind[1]\n",
    "ind3 = ind[2]\n",
    "ind4 = ind[3]\n",
    "\n",
    "correct = 0\n",
    "total = len(df)\n",
    "\n",
    "for i in range(total):\n",
    "    tru = dep[i]\n",
    "    pred = knn_classify_iris([ind1[i],ind2[i],ind3[i],ind4[i]],k)\n",
    "    # print(pred, tru)\n",
    "    if pred == tru:\n",
    "        correct = correct + 1\n",
    "\n",
    "print('Accuracy =',correct/total)"
   ]
  }
 ],
 "metadata": {
  "kernelspec": {
   "display_name": "Python 3",
   "language": "python",
   "name": "python3"
  },
  "language_info": {
   "codemirror_mode": {
    "name": "ipython",
    "version": 3
   },
   "file_extension": ".py",
   "mimetype": "text/x-python",
   "name": "python",
   "nbconvert_exporter": "python",
   "pygments_lexer": "ipython3",
   "version": "3.11.4"
  }
 },
 "nbformat": 4,
 "nbformat_minor": 5
}
