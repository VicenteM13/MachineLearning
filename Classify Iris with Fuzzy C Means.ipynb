{
 "cells": [
  {
   "cell_type": "code",
   "execution_count": 1,
   "id": "cd89dea0",
   "metadata": {},
   "outputs": [
    {
     "name": "stderr",
     "output_type": "stream",
     "text": [
      "C:\\Users\\Julian\\AppData\\Local\\Temp\\ipykernel_12880\\1610943788.py:1: DeprecationWarning: \n",
      "Pyarrow will become a required dependency of pandas in the next major release of pandas (pandas 3.0),\n",
      "(to allow more performant data types, such as the Arrow string type, and better interoperability with other libraries)\n",
      "but was not found to be installed on your system.\n",
      "If this would cause problems for you,\n",
      "please provide us feedback at https://github.com/pandas-dev/pandas/issues/54466\n",
      "        \n",
      "  import pandas as pd\n"
     ]
    }
   ],
   "source": [
    "import pandas as pd \n",
    "import numpy as np\n",
    "import random\n",
    "import operator\n",
    "import math"
   ]
  },
  {
   "cell_type": "code",
   "execution_count": 2,
   "id": "04c81563",
   "metadata": {},
   "outputs": [],
   "source": [
    "df_full = pd.read_csv(\"https://archive.ics.uci.edu/ml/machine-learning-databases/iris/iris.data\")"
   ]
  },
  {
   "cell_type": "code",
   "execution_count": 3,
   "id": "6c252f2b",
   "metadata": {},
   "outputs": [],
   "source": [
    "columns = list(df_full.columns)\n",
    "features = columns[:len(columns)-1]\n",
    "class_labels = list(df_full[columns[-1]])\n",
    "df = df_full[features]"
   ]
  },
  {
   "cell_type": "code",
   "execution_count": 4,
   "id": "65a337bb",
   "metadata": {},
   "outputs": [],
   "source": [
    "# Number of Clusters\n",
    "k = 3\n",
    "\n",
    "# Maximum number of iterations\n",
    "MAX_ITER = 100\n",
    "\n",
    "# Number of data points\n",
    "n = len(df)\n",
    "\n",
    "# Fuzzy parameter \n",
    "m = 17 "
   ]
  },
  {
   "cell_type": "code",
   "execution_count": 5,
   "id": "bce7f537",
   "metadata": {},
   "outputs": [],
   "source": [
    "def accuracy(cluster_labels, class_labels):\n",
    "    correct_pred = 0\n",
    "    #print(cluster_labels)\n",
    "    seto = max(set(labels[0:50]), key=labels[0:50].count)\n",
    "    vers = max(set(labels[50:100]), key=labels[50:100].count)\n",
    "    virg = max(set(labels[100:]), key=labels[100:].count)\n",
    "    \n",
    "    for i in range(len(df)):\n",
    "        if cluster_labels[i] == seto and class_labels[i] == 'Iris-setosa':\n",
    "            correct_pred = correct_pred + 1\n",
    "        if cluster_labels[i] == vers and class_labels[i] == 'Iris-versicolor' and vers!=seto:\n",
    "            correct_pred = correct_pred + 1\n",
    "        if cluster_labels[i] == virg and class_labels[i] == 'Iris-virginica' and virg!=seto and virg!=vers:\n",
    "            correct_pred = correct_pred + 1\n",
    "            \n",
    "    accuracy = (correct_pred/len(df))*100\n",
    "    return accuracy"
   ]
  },
  {
   "cell_type": "code",
   "execution_count": 6,
   "id": "090b8fdf",
   "metadata": {},
   "outputs": [],
   "source": [
    "def initializeMembershipMatrix(): \n",
    "    membership_mat = []\n",
    "    for i in range(n):\n",
    "        random_num_list = [random.random() for i in range(k)]\n",
    "        summation = sum(random_num_list)\n",
    "        temp_list = [x/summation for x in random_num_list]\n",
    "        \n",
    "        flag = temp_list.index(max(temp_list))\n",
    "        for j in range(0,len(temp_list)):\n",
    "            if(j == flag):\n",
    "                temp_list[j] = 1\n",
    "            else:\n",
    "                temp_list[j] = 0\n",
    "        \n",
    "        membership_mat.append(temp_list)\n",
    "    return membership_mat"
   ]
  },
  {
   "cell_type": "code",
   "execution_count": 7,
   "id": "57b5378b",
   "metadata": {},
   "outputs": [],
   "source": [
    "def calculateClusterCenter(membership_mat): \n",
    "    cluster_mem_val = list(zip(*membership_mat))\n",
    "    cluster_centers = []\n",
    "    for j in range(k):\n",
    "        x = list(cluster_mem_val[j])\n",
    "        xraised = [p ** m for p in x]\n",
    "        denominator = sum(xraised)\n",
    "        temp_num = []\n",
    "        for i in range(n):\n",
    "            data_point = list(df.iloc[i])\n",
    "            prod = [xraised[i] * val for val in data_point]\n",
    "            temp_num.append(prod)\n",
    "        numerator = map(sum, list(zip(*temp_num)))\n",
    "        center = [z/denominator for z in numerator]\n",
    "        cluster_centers.append(center)\n",
    "    return cluster_centers"
   ]
  },
  {
   "cell_type": "code",
   "execution_count": 8,
   "id": "a400803a",
   "metadata": {},
   "outputs": [],
   "source": [
    "def updateMembershipValue(membership_mat, cluster_centers): \n",
    "    p = float(2/(m-1))\n",
    "    for i in range(n):\n",
    "        x = list(df.iloc[i])\n",
    "        distances = [np.linalg.norm(np.array(list(map(operator.sub, x, cluster_centers[j])))) for j in range(k)]\n",
    "        for j in range(k):\n",
    "            den = sum([math.pow(float(distances[j]/distances[c]), p) for c in range(k)])\n",
    "            membership_mat[i][j] = float(1/den)       \n",
    "    return membership_mat"
   ]
  },
  {
   "cell_type": "code",
   "execution_count": 9,
   "id": "d87f5c4a",
   "metadata": {},
   "outputs": [],
   "source": [
    "def getClusters(membership_mat): \n",
    "    cluster_labels = list()\n",
    "    for i in range(n):\n",
    "        max_val, idx = max((val, idx) for (idx, val) in enumerate(membership_mat[i]))\n",
    "        cluster_labels.append(idx)\n",
    "    return cluster_labels"
   ]
  },
  {
   "cell_type": "code",
   "execution_count": 10,
   "id": "bdb75a77",
   "metadata": {},
   "outputs": [],
   "source": [
    "def fuzzyCMeansClusteringOrigin(): #First Iteration with centers at 0\n",
    "    # Membership Matrix\n",
    "    membership_mat = initializeMembershipMatrix()\n",
    "    curr = 0\n",
    "    acc=[]\n",
    "    cent_temp = [[0, 0, 0, 0],[0, 0, 0, 0],[0, 0, 0, 0]]\n",
    "    while curr < MAX_ITER:\n",
    "        if(curr == 0):\n",
    "            cluster_centers = cent_temp\n",
    "            print(\"Cluster Centers:\")\n",
    "            print(np.array(cluster_centers))\n",
    "        else:\n",
    "            cluster_centers = calculateClusterCenter(membership_mat)\n",
    "        #cluster_centers = calculateClusterCenter(membership_mat)\n",
    "        membership_mat = updateMembershipValue(membership_mat, cluster_centers)\n",
    "        cluster_labels = getClusters(membership_mat)\n",
    "        acc.append(cluster_labels)\n",
    "        curr += 1\n",
    "    print(\"---------------------------\")\n",
    "    print(\"Membership Matrix:\")\n",
    "    print(np.array(membership_mat))\n",
    "    return cluster_labels, cluster_centers, acc"
   ]
  },
  {
   "cell_type": "code",
   "execution_count": 11,
   "id": "828772eb",
   "metadata": {},
   "outputs": [],
   "source": [
    "def fuzzyCMeansClusteringRamdomLoc(): #Second Iteration Multivariate Gaussian\n",
    "    # Membership Matrix\n",
    "    membership_mat = initializeMembershipMatrix()\n",
    "    curr = 0\n",
    "    acc=[]\n",
    "    mean = [0, 0]\n",
    "    cov = [[1, 0], [0, 1]]\n",
    "    \n",
    "    lis1,cent_temp=[],[]\n",
    "    \n",
    "    for i in range(0,k):\n",
    "        Z = list(np.random.multivariate_normal(mean, cov))\n",
    "        Z1 = list(np.random.multivariate_normal(mean, cov))\n",
    "        lis1 = Z+Z1\n",
    "        cent_temp.append(lis1)\n",
    "    \n",
    "    \n",
    "    while curr < MAX_ITER:\n",
    "        if(curr == 0):\n",
    "            cluster_centers = cent_temp\n",
    "            print(\"Cluster Centers:\")\n",
    "            print(np.array(cluster_centers))\n",
    "        else:\n",
    "            cluster_centers = calculateClusterCenter(membership_mat)\n",
    "        #cluster_centers = calculateClusterCenter(membership_mat)\n",
    "        membership_mat = updateMembershipValue(membership_mat, cluster_centers)\n",
    "        cluster_labels = getClusters(membership_mat)\n",
    "        acc.append(cluster_labels)\n",
    "        curr += 1\n",
    "    print(\"---------------------------\")\n",
    "    print(\"Membership Matrix:\")\n",
    "    print(np.array(membership_mat))\n",
    "    return cluster_labels, cluster_centers, acc"
   ]
  },
  {
   "cell_type": "code",
   "execution_count": 12,
   "id": "28a01f04",
   "metadata": {},
   "outputs": [],
   "source": [
    "def fuzzyCMeansClusteringRandomVec(): #Third iteration Random vectors from data\n",
    "    # Membership Matrix\n",
    "    membership_mat = initializeMembershipMatrix()\n",
    "    curr = 0\n",
    "    acc=[]\n",
    "    while curr < MAX_ITER:\n",
    "        cluster_centers = calculateClusterCenter(membership_mat)\n",
    "        membership_mat = updateMembershipValue(membership_mat, cluster_centers)\n",
    "        cluster_labels = getClusters(membership_mat)\n",
    "        \n",
    "        acc.append(cluster_labels)\n",
    "        \n",
    "        if(curr == 0):\n",
    "            print(\"Cluster Centers:\")\n",
    "            print(np.array(cluster_centers))\n",
    "        curr += 1\n",
    "    print(\"---------------------------\")\n",
    "    #print(\"Partition matrix:\")\n",
    "    #print(np.array(membership_mat))\n",
    "    #return cluster_labels, cluster_centers\n",
    "    return cluster_labels, cluster_centers, acc"
   ]
  },
  {
   "cell_type": "code",
   "execution_count": 13,
   "id": "04187fd3",
   "metadata": {},
   "outputs": [
    {
     "name": "stdout",
     "output_type": "stream",
     "text": [
      "Cluster Centers:\n",
      "[[5.71206897 3.0362069  3.72241379 1.17931034]\n",
      " [5.90697674 3.1255814  3.61162791 1.18604651]\n",
      " [5.96041667 3.00208333 3.98333333 1.25416667]]\n",
      "---------------------------\n",
      "Accuracy = 92.62\n",
      "mean= 91.20134228187915\n",
      "Std dev= 4.680595808029982\n",
      "Cluster center vectors:\n",
      "[[6.02230835 2.87248303 4.48526411 1.45948303]\n",
      " [5.01324036 3.37826711 1.51532147 0.25076731]\n",
      " [6.4920246  2.98657491 5.24755942 1.89834032]]\n"
     ]
    }
   ],
   "source": [
    "labels, centers, acc = fuzzyCMeansClusteringRandomVec()\n",
    "a = accuracy(labels, class_labels)\n",
    "print(\"Accuracy = \" + str(round(a, 2)))\n",
    "\n",
    "# calculating accuracy and std deviation 100 times\n",
    "acc_lis = [] \n",
    "for i in range(0,len(acc)):\n",
    "    val = accuracy(acc[i], class_labels)\n",
    "    acc_lis.append(val)\n",
    "\n",
    "acc_lis = np.array(acc_lis) \n",
    "print(\"mean=\",np.mean(acc_lis))\n",
    "print(\"Std dev=\",np.std(acc_lis))\n",
    "\n",
    "# print final cluster centers\n",
    "print(\"Cluster center vectors:\") \n",
    "print(np.array(centers))\n"
   ]
  }
 ],
 "metadata": {
  "kernelspec": {
   "display_name": "Python 3",
   "language": "python",
   "name": "python3"
  },
  "language_info": {
   "codemirror_mode": {
    "name": "ipython",
    "version": 3
   },
   "file_extension": ".py",
   "mimetype": "text/x-python",
   "name": "python",
   "nbconvert_exporter": "python",
   "pygments_lexer": "ipython3",
   "version": "3.11.4"
  }
 },
 "nbformat": 4,
 "nbformat_minor": 5
}
